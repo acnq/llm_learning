{
 "cells": [
  {
   "cell_type": "markdown",
   "id": "b484cf03",
   "metadata": {},
   "source": [
    "# 6. Transforming\n",
    "\n",
    "## 1. 文本翻译\n",
    "\n",
    "### 1.1. 翻译为西班牙语"
   ]
  },
  {
   "cell_type": "code",
   "execution_count": 1,
   "id": "8d7a3355",
   "metadata": {},
   "outputs": [
    {
     "name": "stderr",
     "output_type": "stream",
     "text": [
      "<>:7: SyntaxWarning: invalid escape sequence '\\ '\n",
      "<>:7: SyntaxWarning: invalid escape sequence '\\ '\n",
      "C:\\Users\\dell\\AppData\\Local\\Temp\\ipykernel_33368\\1291397743.py:7: SyntaxWarning: invalid escape sequence '\\ '\n",
      "  \n"
     ]
    },
    {
     "name": "stdout",
     "output_type": "stream",
     "text": [
      "Hola, me gustaría pedir una batidora.\n"
     ]
    }
   ],
   "source": [
    "from tool import get_completion\n",
    "\n",
    "prompt = f\"\"\"\n",
    "将以下中文翻译成西班牙语: \\ \n",
    "```您好，我想订购一个搅拌机。```\n",
    "\"\"\"\n",
    "\n",
    "response = get_completion(prompt)\n",
    "print(response)"
   ]
  },
  {
   "cell_type": "markdown",
   "id": "a490b3d1",
   "metadata": {},
   "source": [
    "### 1.2. 识别语种"
   ]
  },
  {
   "cell_type": "code",
   "execution_count": 2,
   "id": "1ac9cff3",
   "metadata": {},
   "outputs": [
    {
     "name": "stdout",
     "output_type": "stream",
     "text": [
      "好的，这段文本是：\n",
      "\n",
      "**法语 (French)**\n",
      "\n",
      "这句话的中文意思是：“这个落地灯多少钱？”\n",
      "\n",
      "判断依据：\n",
      "- “Combien” 是法语中询问“多少”的疑问词。\n",
      "- “coûte” 是动词“coûter”（花费）的第三人称单数变位。\n",
      "- “le lampadaire” 意思是“落地灯”。\n",
      "- 疑问句的结构（主语动词倒装：Combien coûte...？）也是法语的典型特征。\n"
     ]
    }
   ],
   "source": [
    "prompt = f\"\"\"\n",
    "请告诉我以下文本是什么语种:  \n",
    "```Combien coûte le lampadaire?```\n",
    "\"\"\"\n",
    "\n",
    "response = get_completion(prompt)\n",
    "print(response)"
   ]
  },
  {
   "cell_type": "markdown",
   "id": "42b395fd",
   "metadata": {},
   "source": [
    "### 1.3. 多语种翻译"
   ]
  },
  {
   "cell_type": "code",
   "execution_count": 3,
   "id": "c5ed73f7",
   "metadata": {},
   "outputs": [
    {
     "name": "stdout",
     "output_type": "stream",
     "text": [
      "中文：我想订购一个篮球。  \n",
      "英文：I want to order a basketball.  \n",
      "法语：Je veux commander un ballon de basket.  \n",
      "西班牙语：Quiero pedir una pelota de baloncesto.\n"
     ]
    }
   ],
   "source": [
    "prompt = f\"\"\"\n",
    "请将以下文本分别翻译成中文、英文、法语和西班牙语:  \n",
    "```I want to order a basketball.```\n",
    "\"\"\"\n",
    "\n",
    "response = get_completion(prompt)\n",
    "print(response)"
   ]
  },
  {
   "cell_type": "markdown",
   "id": "1beeefe2",
   "metadata": {},
   "source": [
    "### 1.4. 同时进行语气转换"
   ]
  },
  {
   "cell_type": "code",
   "execution_count": 4,
   "id": "4271a5a1",
   "metadata": {},
   "outputs": [
    {
     "name": "stdout",
     "output_type": "stream",
     "text": [
      "正式语气：  \n",
      "请问您是否需要订购一个枕头？  \n",
      "\n",
      "非正式语气：  \n",
      "你想来个枕头不？\n"
     ]
    }
   ],
   "source": [
    "prompt = f\"\"\"\n",
    "请将以下文本翻译成中文，分别展示成正式与非正式两种语气:  \n",
    "```Would you like to order a pillow?```\n",
    "\"\"\"\n",
    "\n",
    "response = get_completion(prompt)\n",
    "print(response)"
   ]
  },
  {
   "cell_type": "markdown",
   "id": "711ed440",
   "metadata": {},
   "source": [
    "### 1.5. 通用翻译器"
   ]
  },
  {
   "cell_type": "code",
   "execution_count": 5,
   "id": "55af377e",
   "metadata": {},
   "outputs": [],
   "source": [
    "user_messages = [\n",
    "  \"La performance du système est plus lente que d'habitude.\",  # System performance is slower than normal         \n",
    "  \"Mi monitor tiene píxeles que no se iluminan.\",              # My monitor has pixels that are not lighting\n",
    "  \"Il mio mouse non funziona\",                                 # My mouse is not working\n",
    "  \"Mój klawisz Ctrl jest zepsuty\",                             # My keyboard has a broken control key\n",
    "  \"我的屏幕在闪烁\"                                             # My screen is flashing\n",
    "]"
   ]
  },
  {
   "cell_type": "code",
   "execution_count": 6,
   "id": "db461602",
   "metadata": {},
   "outputs": [
    {
     "name": "stdout",
     "output_type": "stream",
     "text": [
      "原始消息 (法语): La performance du système est plus lente que d'habitude.\n",
      "\n",
      "中文翻译：系统性能比平时慢。  \n",
      "英文翻译：The system performance is slower than usual. \n",
      "=========================================\n",
      "原始消息 (西班牙语): Mi monitor tiene píxeles que no se iluminan.\n",
      "\n",
      "中文翻译：我的显示器有一些不亮的像素点。  \n",
      "英文翻译：My monitor has pixels that do not light up. \n",
      "=========================================\n",
      "原始消息 (意大利语): Il mio mouse non funziona\n",
      "\n",
      "中文翻译：我的鼠标无法使用了  \n",
      "英文翻译：My mouse isn't working \n",
      "=========================================\n",
      "原始消息 (波兰语): Mój klawisz Ctrl jest zepsuty\n",
      "\n",
      "中文翻译：我的Ctrl键坏了  \n",
      "英文翻译：My Ctrl key is broken \n",
      "=========================================\n",
      "原始消息 (中文): 我的屏幕在闪烁\n",
      "\n",
      "中文翻译：我的屏幕在闪烁  \n",
      "英文翻译：My screen is flickering \n",
      "=========================================\n"
     ]
    }
   ],
   "source": [
    "import time\n",
    "\n",
    "for issue in user_messages:\n",
    "  time.sleep(20)\n",
    "  prompt = f\"告诉我以下文本是什么语种，直接输出语种，如法语，无需输出标点符号: ```{issue}```\"\n",
    "  lang = get_completion(prompt)\n",
    "  print(f\"原始消息 ({lang}): {issue}\\n\")\n",
    "  \n",
    "  prompt = f\"\"\"\n",
    "  以下消息分别翻译成英文和中文，并写成\n",
    "  中文翻译：xxx\n",
    "  英文翻译：yyy\n",
    "  的格式：\n",
    "  ```{issue}```\n",
    "  \"\"\"\n",
    "  \n",
    "  response = get_completion(prompt)\n",
    "  print(response, \"\\n=========================================\")"
   ]
  },
  {
   "cell_type": "markdown",
   "id": "207504cd",
   "metadata": {},
   "source": [
    "## 2. 语气与写作风格调整"
   ]
  },
  {
   "cell_type": "code",
   "execution_count": 7,
   "id": "bb484398",
   "metadata": {},
   "outputs": [
    {
     "name": "stdout",
     "output_type": "stream",
     "text": [
      "**尊敬的[收件人姓名]：**  \n",
      "\n",
      "您好！我是小羊。冒昧打扰，想向您确认一下，此前您曾提及我们部门计划采购的显示器，具体尺寸是多少呢？  \n",
      "\n",
      "若您方便时能予以回复，我将不胜感激。  \n",
      "\n",
      "顺祝商祺！  \n",
      "\n",
      "[您的姓名]  \n",
      "[您的职位]  \n",
      "[部门名称]  \n",
      "[日期]  \n",
      "\n",
      "---  \n",
      "**说明**：  \n",
      "1. 将口语化称呼改为正式商务称谓，如“尊敬的[收件人姓名]”；  \n",
      "2. 使用礼貌用语（如“冒昧打扰”“不胜感激”）贴合商务场景；  \n",
      "3. 补充信函标准格式要素（职位、部门、日期等），增强专业性。\n"
     ]
    }
   ],
   "source": [
    "prompt = f\"\"\"\n",
    "将以下文本翻译成商务信函的格式: \n",
    "```小老弟，我小羊，上回你说咱部门要采购的显示器是多少寸来着？```\n",
    "\"\"\"\n",
    "\n",
    "response = get_completion(prompt)\n",
    "print(response)"
   ]
  },
  {
   "cell_type": "markdown",
   "id": "a160abcb",
   "metadata": {},
   "source": [
    "## 3. 文件格式转换"
   ]
  },
  {
   "cell_type": "code",
   "execution_count": 8,
   "id": "da6c1ebb",
   "metadata": {},
   "outputs": [],
   "source": [
    "data_json = {\"resturant employees\": [\n",
    "  {\"name\": \"Shyam\", \"email\": \"shyamjaiswal@gmail.com\"},\n",
    "  {\"name\":\"Bob\", \"email\":\"bob32@gmail.com\"},\n",
    "  {\"name\":\"Jai\", \"email\":\"jai87@gmail.com\"}\n",
    "]}"
   ]
  },
  {
   "cell_type": "code",
   "execution_count": 9,
   "id": "11e771de",
   "metadata": {},
   "outputs": [
    {
     "name": "stdout",
     "output_type": "stream",
     "text": [
      "\n",
      "# 将JSON数据转换为HTML表格\n",
      "\n",
      "下面是一个将Python字典转换为HTML表格的解决方案，包含完整的HTML页面和美观的样式设计。\n",
      "\n",
      "```html\n",
      "<!DOCTYPE html>\n",
      "<html lang=\"zh-CN\">\n",
      "<head>\n",
      "    <meta charset=\"UTF-8\">\n",
      "    <meta name=\"viewport\" content=\"width=device-width, initial-scale=1.0\">\n",
      "    <title>餐厅员工信息表</title>\n",
      "    <style>\n",
      "        * {\n",
      "            margin: 0;\n",
      "            padding: 0;\n",
      "            box-sizing: border-box;\n",
      "            font-family: 'Segoe UI', Tahoma, Geneva, Verdana, sans-serif;\n",
      "        }\n",
      "        \n",
      "        body {\n",
      "            background: linear-gradient(135deg, #f5f7fa 0%, #c3cfe2 100%);\n",
      "            min-height: 100vh;\n",
      "            display: flex;\n",
      "            flex-direction: column;\n",
      "            align-items: center;\n",
      "            padding: 40px 20px;\n",
      "        }\n",
      "        \n",
      "        .container {\n",
      "            width: 100%;\n",
      "            max-width: 800px;\n",
      "            background: white;\n",
      "            border-radius: 12px;\n",
      "            box-shadow: 0 10px 30px rgba(0, 0, 0, 0.15);\n",
      "            overflow: hidden;\n",
      "            margin-top: 20px;\n",
      "        }\n",
      "        \n",
      "        header {\n",
      "            background: #2c3e50;\n",
      "            color: white;\n",
      "            padding: 25px;\n",
      "            text-align: center;\n",
      "        }\n",
      "        \n",
      "        h1 {\n",
      "            font-size: 28px;\n",
      "            margin-bottom: 10px;\n",
      "        }\n",
      "        \n",
      "        .description {\n",
      "            font-size: 16px;\n",
      "            opacity: 0.8;\n",
      "            margin-top: 5px;\n",
      "        }\n",
      "        \n",
      "        table {\n",
      "            width: 100%;\n",
      "            border-collapse: collapse;\n",
      "        }\n",
      "        \n",
      "        thead {\n",
      "            background: #3498db;\n",
      "            color: white;\n",
      "        }\n",
      "        \n",
      "        th {\n",
      "            padding: 16px;\n",
      "            text-align: left;\n",
      "            font-weight: 600;\n",
      "            font-size: 16px;\n",
      "        }\n",
      "        \n",
      "        td {\n",
      "            padding: 14px 16px;\n",
      "            border-bottom: 1px solid #e0e0e0;\n",
      "        }\n",
      "        \n",
      "        tr:nth-child(even) {\n",
      "            background-color: #f8f9fa;\n",
      "        }\n",
      "        \n",
      "        tr:hover {\n",
      "            background-color: #e8f4fc;\n",
      "            transition: background-color 0.2s;\n",
      "        }\n",
      "        \n",
      "        .footer {\n",
      "            margin-top: 20px;\n",
      "            text-align: center;\n",
      "            color: #7f8c8d;\n",
      "            font-size: 14px;\n",
      "        }\n",
      "        \n",
      "        .json-source {\n",
      "            margin-top: 30px;\n",
      "            background: #2c3e50;\n",
      "            color: #ecf0f1;\n",
      "            padding: 20px;\n",
      "            border-radius: 8px;\n",
      "            width: 100%;\n",
      "            max-width: 800px;\n",
      "            font-family: monospace;\n",
      "            white-space: pre-wrap;\n",
      "            overflow-x: auto;\n",
      "        }\n",
      "        \n",
      "        .json-title {\n",
      "            color: #fff;\n",
      "            margin-bottom: 10px;\n",
      "            font-weight: 600;\n",
      "        }\n",
      "    </style>\n",
      "</head>\n",
      "<body>\n",
      "    <header>\n",
      "        <h1>餐厅员工信息管理系统</h1>\n",
      "        <p class=\"description\">员工联系信息表</p>\n",
      "    </header>\n",
      "    \n",
      "    <div class=\"container\">\n",
      "        <table>\n",
      "            <thead>\n",
      "                <tr>\n",
      "                    <th>姓名</th>\n",
      "                    <th>电子邮箱</th>\n",
      "                </tr>\n",
      "            </thead>\n",
      "            <tbody>\n",
      "                <tr>\n",
      "                    <td>Shyam</td>\n",
      "                    <td>shyamjaiswal@gmail.com</td>\n",
      "                </tr>\n",
      "                <tr>\n",
      "                    <td>Bob</td>\n",
      "                    <td>bob32@gmail.com</td>\n",
      "                </tr>\n",
      "                <tr>\n",
      "                    <td>Jai</td>\n",
      "                    <td>jai87@gmail.com</td>\n",
      "                </tr>\n",
      "            </tbody>\n",
      "        </table>\n",
      "    </div>\n",
      "    \n",
      "    <div class=\"footer\">\n",
      "        <p>共3名员工 | 最后更新: 2023年</p>\n",
      "    </div>\n",
      "    \n",
      "    <div class=\"json-source\">\n",
      "        <div class=\"json-title\">原始JSON数据：</div>\n",
      "{'resturant employees': [{'name': 'Shyam', 'email': 'shyamjaiswal@gmail.com'}, {'name': 'Bob', 'email': 'bob32@gmail.com'}, {'name': 'Jai', 'email': 'jai87@gmail.com'}]}\n",
      "    </div>\n",
      "\n",
      "    <script>\n",
      "        // 简单的交互效果：行点击高亮\n",
      "        document.addEventListener('DOMContentLoaded', function() {\n",
      "            const rows = document.querySelectorAll('tbody tr');\n",
      "            \n",
      "            rows.forEach(row => {\n",
      "                row.addEventListener('click', function() {\n",
      "                    this.classList.toggle('selected');\n",
      "                });\n",
      "            });\n",
      "        });\n",
      "    </script>\n",
      "</body>\n",
      "</html>\n",
      "```\n",
      "\n",
      "## 功能说明\n",
      "\n",
      "这个HTML页面实现了以下功能：\n",
      "\n",
      "1. 将提供的JSON数据转换为美观的HTML表格\n",
      "2. 表格包含标题和列名（姓名和电子邮箱）\n",
      "3. 设计了现代化的界面，包括渐变背景、卡片式设计和阴影效果\n",
      "4. 添加了交互效果 - 点击表格行可以切换选中状态\n",
      "5. 在页面底部显示了原始JSON数据\n",
      "6. 页面完全响应式，可以在各种设备上良好显示\n",
      "\n",
      "您可以直接将这段代码复制到HTML文件中，然后在浏览器中打开查看效果。表格显示了三名餐厅员工的信息，包括他们的姓名和电子邮件地址。\n"
     ]
    }
   ],
   "source": [
    "prompt = f\"\"\"\n",
    "将以下Python字典从JSON转换为HTML表格，保留表格标题和列名：{data_json}\n",
    "\"\"\"\n",
    "\n",
    "response = get_completion(prompt)\n",
    "print(response)"
   ]
  },
  {
   "cell_type": "code",
   "execution_count": 10,
   "id": "8d6dbf31",
   "metadata": {},
   "outputs": [
    {
     "data": {
      "text/html": [
       "\n",
       "# 将JSON数据转换为HTML表格\n",
       "\n",
       "下面是一个将Python字典转换为HTML表格的解决方案，包含完整的HTML页面和美观的样式设计。\n",
       "\n",
       "```html\n",
       "<!DOCTYPE html>\n",
       "<html lang=\"zh-CN\">\n",
       "<head>\n",
       "    <meta charset=\"UTF-8\">\n",
       "    <meta name=\"viewport\" content=\"width=device-width, initial-scale=1.0\">\n",
       "    <title>餐厅员工信息表</title>\n",
       "    <style>\n",
       "        * {\n",
       "            margin: 0;\n",
       "            padding: 0;\n",
       "            box-sizing: border-box;\n",
       "            font-family: 'Segoe UI', Tahoma, Geneva, Verdana, sans-serif;\n",
       "        }\n",
       "        \n",
       "        body {\n",
       "            background: linear-gradient(135deg, #f5f7fa 0%, #c3cfe2 100%);\n",
       "            min-height: 100vh;\n",
       "            display: flex;\n",
       "            flex-direction: column;\n",
       "            align-items: center;\n",
       "            padding: 40px 20px;\n",
       "        }\n",
       "        \n",
       "        .container {\n",
       "            width: 100%;\n",
       "            max-width: 800px;\n",
       "            background: white;\n",
       "            border-radius: 12px;\n",
       "            box-shadow: 0 10px 30px rgba(0, 0, 0, 0.15);\n",
       "            overflow: hidden;\n",
       "            margin-top: 20px;\n",
       "        }\n",
       "        \n",
       "        header {\n",
       "            background: #2c3e50;\n",
       "            color: white;\n",
       "            padding: 25px;\n",
       "            text-align: center;\n",
       "        }\n",
       "        \n",
       "        h1 {\n",
       "            font-size: 28px;\n",
       "            margin-bottom: 10px;\n",
       "        }\n",
       "        \n",
       "        .description {\n",
       "            font-size: 16px;\n",
       "            opacity: 0.8;\n",
       "            margin-top: 5px;\n",
       "        }\n",
       "        \n",
       "        table {\n",
       "            width: 100%;\n",
       "            border-collapse: collapse;\n",
       "        }\n",
       "        \n",
       "        thead {\n",
       "            background: #3498db;\n",
       "            color: white;\n",
       "        }\n",
       "        \n",
       "        th {\n",
       "            padding: 16px;\n",
       "            text-align: left;\n",
       "            font-weight: 600;\n",
       "            font-size: 16px;\n",
       "        }\n",
       "        \n",
       "        td {\n",
       "            padding: 14px 16px;\n",
       "            border-bottom: 1px solid #e0e0e0;\n",
       "        }\n",
       "        \n",
       "        tr:nth-child(even) {\n",
       "            background-color: #f8f9fa;\n",
       "        }\n",
       "        \n",
       "        tr:hover {\n",
       "            background-color: #e8f4fc;\n",
       "            transition: background-color 0.2s;\n",
       "        }\n",
       "        \n",
       "        .footer {\n",
       "            margin-top: 20px;\n",
       "            text-align: center;\n",
       "            color: #7f8c8d;\n",
       "            font-size: 14px;\n",
       "        }\n",
       "        \n",
       "        .json-source {\n",
       "            margin-top: 30px;\n",
       "            background: #2c3e50;\n",
       "            color: #ecf0f1;\n",
       "            padding: 20px;\n",
       "            border-radius: 8px;\n",
       "            width: 100%;\n",
       "            max-width: 800px;\n",
       "            font-family: monospace;\n",
       "            white-space: pre-wrap;\n",
       "            overflow-x: auto;\n",
       "        }\n",
       "        \n",
       "        .json-title {\n",
       "            color: #fff;\n",
       "            margin-bottom: 10px;\n",
       "            font-weight: 600;\n",
       "        }\n",
       "    </style>\n",
       "</head>\n",
       "<body>\n",
       "    <header>\n",
       "        <h1>餐厅员工信息管理系统</h1>\n",
       "        <p class=\"description\">员工联系信息表</p>\n",
       "    </header>\n",
       "    \n",
       "    <div class=\"container\">\n",
       "        <table>\n",
       "            <thead>\n",
       "                <tr>\n",
       "                    <th>姓名</th>\n",
       "                    <th>电子邮箱</th>\n",
       "                </tr>\n",
       "            </thead>\n",
       "            <tbody>\n",
       "                <tr>\n",
       "                    <td>Shyam</td>\n",
       "                    <td>shyamjaiswal@gmail.com</td>\n",
       "                </tr>\n",
       "                <tr>\n",
       "                    <td>Bob</td>\n",
       "                    <td>bob32@gmail.com</td>\n",
       "                </tr>\n",
       "                <tr>\n",
       "                    <td>Jai</td>\n",
       "                    <td>jai87@gmail.com</td>\n",
       "                </tr>\n",
       "            </tbody>\n",
       "        </table>\n",
       "    </div>\n",
       "    \n",
       "    <div class=\"footer\">\n",
       "        <p>共3名员工 | 最后更新: 2023年</p>\n",
       "    </div>\n",
       "    \n",
       "    <div class=\"json-source\">\n",
       "        <div class=\"json-title\">原始JSON数据：</div>\n",
       "{'resturant employees': [{'name': 'Shyam', 'email': 'shyamjaiswal@gmail.com'}, {'name': 'Bob', 'email': 'bob32@gmail.com'}, {'name': 'Jai', 'email': 'jai87@gmail.com'}]}\n",
       "    </div>\n",
       "\n",
       "    <script>\n",
       "        // 简单的交互效果：行点击高亮\n",
       "        document.addEventListener('DOMContentLoaded', function() {\n",
       "            const rows = document.querySelectorAll('tbody tr');\n",
       "            \n",
       "            rows.forEach(row => {\n",
       "                row.addEventListener('click', function() {\n",
       "                    this.classList.toggle('selected');\n",
       "                });\n",
       "            });\n",
       "        });\n",
       "    </script>\n",
       "</body>\n",
       "</html>\n",
       "```\n",
       "\n",
       "## 功能说明\n",
       "\n",
       "这个HTML页面实现了以下功能：\n",
       "\n",
       "1. 将提供的JSON数据转换为美观的HTML表格\n",
       "2. 表格包含标题和列名（姓名和电子邮箱）\n",
       "3. 设计了现代化的界面，包括渐变背景、卡片式设计和阴影效果\n",
       "4. 添加了交互效果 - 点击表格行可以切换选中状态\n",
       "5. 在页面底部显示了原始JSON数据\n",
       "6. 页面完全响应式，可以在各种设备上良好显示\n",
       "\n",
       "您可以直接将这段代码复制到HTML文件中，然后在浏览器中打开查看效果。表格显示了三名餐厅员工的信息，包括他们的姓名和电子邮件地址。"
      ],
      "text/plain": [
       "<IPython.core.display.HTML object>"
      ]
     },
     "metadata": {},
     "output_type": "display_data"
    }
   ],
   "source": [
    "from IPython.display import display, Markdown, Latex, HTML, JSON\n",
    "display(HTML(response))"
   ]
  },
  {
   "cell_type": "markdown",
   "id": "150e9f0f",
   "metadata": {},
   "source": [
    "## 4. 拼写和语法纠正"
   ]
  },
  {
   "cell_type": "code",
   "execution_count": 12,
   "id": "6d93476d",
   "metadata": {},
   "outputs": [],
   "source": [
    "text = [\n",
    "  \"The girl with the black and white puppies have a ball.\",  # The girl has a ball.\n",
    "  \"Yolanda has her notebook.\", # ok\n",
    "  \"Its going to be a long day. Does the car need it’s oil changed?\",  # Homonyms\n",
    "  \"Their goes my freedom. There going to bring they’re suitcases.\",  # Homonyms\n",
    "  \"Your going to need you’re notebook.\",  # Homonyms\n",
    "  \"That medicine effects my ability to sleep. Have you heard of the butterfly affect?\", # Homonyms\n",
    "  \"This phrase is to cherck chatGPT for spelling abilitty\"  # spelling\n",
    "]"
   ]
  },
  {
   "cell_type": "code",
   "execution_count": 13,
   "id": "f123b03b",
   "metadata": {},
   "outputs": [
    {
     "name": "stdout",
     "output_type": "stream",
     "text": [
      "0 The girl with the black and white puppies has a ball.\n",
      "1 Yolanda has her notebook.  \n",
      "（未发现错误）\n",
      "2 It's going to be a long day. Does the car need its oil changed?\n",
      "3 Their goes my freedom. They're going to bring their suitcases.\n",
      "4 You're going to need your notebook.\n",
      "5 That medicine affects my ability to sleep. Have you heard of the butterfly effect?\n",
      "6 This phrase is to check ChatGPT for spelling ability.\n"
     ]
    }
   ],
   "source": [
    "for i in range(len(text)):\n",
    "  time.sleep(20)\n",
    "  prompt = f\"\"\"\n",
    "  请校对并更正以下文本，注意纠正文本保持原始语种，无需输出原始文本。\n",
    "  如果您没有发现任何错误，请说“未发现错误”。\n",
    "  \n",
    "  例如：\n",
    "  输入：I are happy.\n",
    "  输出：I am happy.\n",
    "  ```{text[i]}```\n",
    "  \"\"\"\n",
    "  response = get_completion(prompt)\n",
    "  print(i, response)"
   ]
  },
  {
   "cell_type": "code",
   "execution_count": 19,
   "id": "704c7fc1",
   "metadata": {},
   "outputs": [],
   "source": [
    "text = f\"\"\"\n",
    "Got this for my daughter for her birthday cuz she keeps taking \\\n",
    "mine from my room.  Yes, adults also like pandas too.  She takes \\\n",
    "it everywhere with her, and it's super soft and cute.  One of the \\\n",
    "ears is a bit lower than the other, and I don't think that was \\\n",
    "designed to be asymmetrical. It's a bit small for what I paid for it \\\n",
    "though. I think there might be other options that are bigger for \\\n",
    "the same price.  It arrived a day earlier than expected, so I got \\\n",
    "to play with it myself before I gave it to my daughter.\n",
    "\"\"\""
   ]
  },
  {
   "cell_type": "code",
   "execution_count": 21,
   "id": "3531d7b6",
   "metadata": {},
   "outputs": [
    {
     "name": "stdout",
     "output_type": "stream",
     "text": [
      "Got this for my daughter for her birthday because she keeps taking mine from my room. Yes, adults like pandas too. She takes it everywhere with her, and it’s super soft and cute. However, one of the ears is a bit lower than the other, and I don’t think it was designed to be asymmetrical. It’s also a bit small for the price. I think there might be other options that are bigger for the same amount. On the positive side, it arrived a day earlier than expected, so I got to play with it myself before giving it to my daughter.\n"
     ]
    }
   ],
   "source": [
    "prompt = f\"校对并更正以下商品评论, 直接输出校正后的英文文本```{text}```\"\n",
    "response = get_completion(prompt)\n",
    "print(response)"
   ]
  },
  {
   "cell_type": "code",
   "execution_count": 22,
   "id": "d39801da",
   "metadata": {},
   "outputs": [
    {
     "data": {
      "text/markdown": [
       "Got this for my daughter for her birthday <span style='color:red;font-weight:700;text-decoration:line-through;'>cuz </span><span style='color:green;font-weight:700;'>because </span>she keeps taking mine from my room.  Yes, adults <span style='color:red;font-weight:700;text-decoration:line-through;'>also </span>like pandas too.  She takes it everywhere with her, and <span style='color:red;font-weight:700;text-decoration:line-through;'>it's </span><span style='color:green;font-weight:700;'>it’s </span>super soft and cute.  <span style='color:red;font-weight:700;text-decoration:line-through;'>One </span><span style='color:green;font-weight:700;'>However, one </span>of the ears is a bit lower than the other, and I <span style='color:red;font-weight:700;text-decoration:line-through;'>don't </span><span style='color:green;font-weight:700;'>don’t </span>think <span style='color:red;font-weight:700;text-decoration:line-through;'>that </span><span style='color:green;font-weight:700;'>it </span>was designed to be asymmetrical. <span style='color:red;font-weight:700;text-decoration:line-through;'>It's </span><span style='color:green;font-weight:700;'>It’s also </span>a bit small for <span style='color:red;font-weight:700;text-decoration:line-through;'>what I paid for it though. </span><span style='color:green;font-weight:700;'>the price. </span>I think there might be other options that are bigger for the same <span style='color:red;font-weight:700;text-decoration:line-through;'>price.  It </span><span style='color:green;font-weight:700;'>amount. On the positive side, it </span>arrived a day earlier than expected, so I got to play with it myself before <span style='color:red;font-weight:700;text-decoration:line-through;'>I gave </span><span style='color:green;font-weight:700;'>giving </span>it to my daughter."
      ],
      "text/plain": [
       "<IPython.core.display.Markdown object>"
      ]
     },
     "metadata": {},
     "output_type": "display_data"
    }
   ],
   "source": [
    "from redlines import Redlines\n",
    "from IPython.display import display, Markdown\n",
    "\n",
    "diff = Redlines(text, response)\n",
    "display(Markdown(diff.output_markdown))"
   ]
  },
  {
   "cell_type": "markdown",
   "id": "6e769527",
   "metadata": {},
   "source": [
    "## 5. 综合样例"
   ]
  },
  {
   "cell_type": "code",
   "execution_count": 24,
   "id": "228ba2b8",
   "metadata": {},
   "outputs": [
    {
     "data": {
      "text/markdown": [
       "```markdown\n",
       "【优点】这款熊猫公仔真的超可爱！毛毛摸起来特别柔软顺滑，我家女儿简直爱不释手，连我这个大人都忍不住偷偷rua两下～生日礼物提前一天送达超惊喜，让我先替女儿验货玩了好久hhh 宝宝现在连睡觉都要抱着，出门也必须随身携带，绝对是真爱了！\n",
       "\n",
       "【缺点】不过有一说一，左边耳朵比右边稍微低了一点点，应该不是故意设计成不对称的吧？虽然不影响整体萌感，但细节控可能会有点介意。另外尺寸比想象中小一圈，同价位可能能买到更大只的毛绒玩具，性价比稍微有一丢丢遗憾啦。\n",
       "\n",
       "【总结】总体还是很推荐的！虽然有小瑕疵但颜值和手感真的绝绝子，女儿看到礼物时眼睛都亮啦～如果不在意味料之中的细微不对称和尺寸问题的话，闭眼入不亏！\n",
       "```"
      ],
      "text/plain": [
       "<IPython.core.display.Markdown object>"
      ]
     },
     "metadata": {},
     "output_type": "display_data"
    }
   ],
   "source": [
    "prompt = f\"\"\"\n",
    "针对以下三个反引号之间的英文评论文本，\n",
    "首先进行拼写及语法纠错，\n",
    "然后将其转化成中文，\n",
    "再将其转化成优质淘宝评论的风格，从各种角度出发，分别说明产品的优点与缺点，并进行总结。\n",
    "润色一下描述，使评论更具有吸引力。\n",
    "输出结果格式为：\n",
    "【优点】xxx\n",
    "【缺点】xxx\n",
    "【总结】xxx\n",
    "注意，只需填写xxx部分，并分段输出。\n",
    "将结果输出成Markdown格式。\n",
    "```{text}```\n",
    "\"\"\"\n",
    "\n",
    "response = get_completion(prompt)\n",
    "display(Markdown(response))"
   ]
  }
 ],
 "metadata": {
  "kernelspec": {
   "display_name": "rl_new",
   "language": "python",
   "name": "python3"
  },
  "language_info": {
   "codemirror_mode": {
    "name": "ipython",
    "version": 3
   },
   "file_extension": ".py",
   "mimetype": "text/x-python",
   "name": "python",
   "nbconvert_exporter": "python",
   "pygments_lexer": "ipython3",
   "version": "3.12.11"
  }
 },
 "nbformat": 4,
 "nbformat_minor": 5
}
