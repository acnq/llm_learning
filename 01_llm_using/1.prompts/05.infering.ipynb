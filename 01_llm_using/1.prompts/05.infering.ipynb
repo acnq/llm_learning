{
 "cells": [
  {
   "cell_type": "markdown",
   "id": "1649a1c5",
   "metadata": {},
   "source": [
    "# 5. Inferring\n",
    "\n",
    "## 1. Emotional Inferring\n",
    "\n",
    "### 1.1. 情感倾向分析"
   ]
  },
  {
   "cell_type": "code",
   "execution_count": 2,
   "id": "2591b5b5",
   "metadata": {},
   "outputs": [],
   "source": [
    "lamp_review = \"\"\"\n",
    "我需要一盏漂亮的卧室灯，这款灯具有额外的储物功能，价格也不算太高。\\\n",
    "我很快就收到了它。在运输过程中，我们的灯绳断了，但是公司很乐意寄送了一个新的。\\\n",
    "几天后就收到了。这款灯很容易组装。我发现少了一个零件，于是联系了他们的客服，他们很快就给我寄来了缺失的零件！\\\n",
    "在我看来，Lumina 是一家非常关心顾客和产品的优秀公司！\n",
    "\"\"\""
   ]
  },
  {
   "cell_type": "code",
   "execution_count": 3,
   "id": "a557b9e4",
   "metadata": {},
   "outputs": [
    {
     "name": "stdout",
     "output_type": "stream",
     "text": [
      "根据提供的产品评论，情感分析如下：\n",
      "\n",
      "**整体情感：积极正面（非常满意）**\n",
      "\n",
      "**详细分析：**\n",
      "1. **正面表达**：  \n",
      "   - 用户明确提到“漂亮的卧室灯”、“额外的储物功能”、“价格不算太高”（性价比高）  \n",
      "   - 强调“很快收到”（物流速度满意）  \n",
      "   - 多次称赞客服响应：“公司很乐意寄送新的”、“很快寄来缺失的零件”  \n",
      "   - 直接总结：“非常关心顾客和产品的优秀公司”  \n",
      "\n",
      "2. **负面事件但被积极化解**：  \n",
      "   - 运输中灯绳断裂、少零件（初始问题）  \n",
      "   - 但公司迅速补救（换新、补零件），且用户对处理结果非常满意，反而强化了正面印象。  \n",
      "\n",
      "3. **情感倾向**：  \n",
      "   用户通过描述问题的圆满解决，突出公司的责任感和服务质量，最终表达的是**高度认可和推荐**。  \n",
      "\n",
      "**结论**：评论情感是**积极的**，用户主要传达对产品功能、客服支持和公司责任的满意。\n"
     ]
    }
   ],
   "source": [
    "from tool import get_completion\n",
    "\n",
    "prompt = f\"\"\"\n",
    "以下用三个反引号分隔的产品评论的情感是什么？\n",
    "\n",
    "评论文本: ```{lamp_review}```\n",
    "\"\"\"\n",
    "\n",
    "response = get_completion(prompt)\n",
    "print(response)\n"
   ]
  },
  {
   "cell_type": "code",
   "execution_count": 4,
   "id": "dae9dc5e",
   "metadata": {},
   "outputs": [
    {
     "name": "stdout",
     "output_type": "stream",
     "text": [
      "正面\n"
     ]
    }
   ],
   "source": [
    "prompt = f\"\"\"\n",
    "以下用三个反引号分隔的产品评论的情感是什么？\n",
    "\n",
    "用一个单词回答：「正面」或「负面」。\n",
    "\n",
    "评论文本: ```{lamp_review}```\n",
    "\"\"\"\n",
    "\n",
    "response = get_completion(prompt)\n",
    "print(response)"
   ]
  },
  {
   "cell_type": "markdown",
   "id": "9d5318eb",
   "metadata": {},
   "source": [
    "### 1.2. 识别情感类型"
   ]
  },
  {
   "cell_type": "code",
   "execution_count": 5,
   "id": "2ef5a680",
   "metadata": {},
   "outputs": [
    {
     "name": "stdout",
     "output_type": "stream",
     "text": [
      "positive, satisfied, appreciative, impressed, content\n"
     ]
    }
   ],
   "source": [
    "# 中文\n",
    "prompt = f\"\"\"\n",
    "识别以下评论的作者表达的情感。包含不超过五个项目。将答案格式化为以逗号分隔的单词列表。\n",
    "\n",
    "评论文本: ```{lamp_review}```\n",
    "\"\"\"\n",
    "\n",
    "response = get_completion(prompt)\n",
    "print(response)"
   ]
  },
  {
   "cell_type": "markdown",
   "id": "37a0a10d",
   "metadata": {},
   "source": [
    "### 1.3. 识别愤怒"
   ]
  },
  {
   "cell_type": "code",
   "execution_count": 6,
   "id": "7140fb7e",
   "metadata": {},
   "outputs": [
    {
     "name": "stdout",
     "output_type": "stream",
     "text": [
      "否\n"
     ]
    }
   ],
   "source": [
    "prompt = f\"\"\"\n",
    "以下评论的作者是否表达了愤怒？评论用三个反引号分隔。给出是或否的答案。\n",
    "\n",
    "评论文本: ```{lamp_review}```\n",
    "\"\"\"\n",
    "\n",
    "response = get_completion(prompt)\n",
    "print(response)"
   ]
  },
  {
   "cell_type": "markdown",
   "id": "3157ef55",
   "metadata": {},
   "source": [
    "## 2. Information Extraction (IE)\n",
    "\n",
    "### 2.1. 商品信息提取"
   ]
  },
  {
   "cell_type": "code",
   "execution_count": 7,
   "id": "a104bd8d",
   "metadata": {},
   "outputs": [
    {
     "name": "stdout",
     "output_type": "stream",
     "text": [
      "{\"物品\": \"卧室灯\", \"品牌\": \"Lumina\"}\n"
     ]
    }
   ],
   "source": [
    "prompt = f\"\"\"\n",
    "从评论文本中识别以下项目：\n",
    "- 评论者购买的物品\n",
    "- 制造该物品的公司\n",
    "\n",
    "评论文本用三个反引号分隔。将你的响应格式化为以 “物品” 和 “品牌” 为键的 JSON 对象。\n",
    "如果信息不存在，请使用 “未知” 作为值。\n",
    "让你的回应尽可能简短\n",
    "\n",
    "评论文本: ```{lamp_review}```\n",
    "\"\"\"\n",
    "\n",
    "response = get_completion(prompt)\n",
    "print(response)"
   ]
  },
  {
   "cell_type": "markdown",
   "id": "edbf5966",
   "metadata": {},
   "source": [
    "### 2.2. 综合信息判断和信息提取"
   ]
  },
  {
   "cell_type": "code",
   "execution_count": 8,
   "id": "5ab6a399",
   "metadata": {},
   "outputs": [
    {
     "name": "stdout",
     "output_type": "stream",
     "text": [
      "{\n",
      "  \"情感倾向\": \"正面\",\n",
      "  \"是否生气\": false,\n",
      "  \"物品类型\": \"灯\",\n",
      "  \"品牌\": \"Lumina\"\n",
      "}\n"
     ]
    }
   ],
   "source": [
    "prompt = f\"\"\"\n",
    "从评论文本中识别以下项目：\n",
    "- 情绪（正面或负面）\n",
    "- 审稿人是否表达了愤怒？（是或否）\n",
    "- 评论者购买的物品\n",
    "- 制造该物品的公司\n",
    "\n",
    "评论用三个反引号分隔。将你的响应格式化为 JSON 对象，以 “情感倾向”、“是否生气”、“物品类型” 和 “品牌” 作为键。\n",
    "如果信息不存在，请使用 “未知” 作为值。\n",
    "让你的回应尽可能简短。\n",
    "将 “是否生气” 值格式化为布尔值。\n",
    "\n",
    "评论文本: ```{lamp_review}```\n",
    "\"\"\"\n",
    "\n",
    "response = get_completion(prompt)\n",
    "print(response)"
   ]
  },
  {
   "cell_type": "markdown",
   "id": "98394532",
   "metadata": {},
   "source": [
    "## 3. 主题推断"
   ]
  },
  {
   "cell_type": "code",
   "execution_count": 9,
   "id": "384e1d8c",
   "metadata": {},
   "outputs": [],
   "source": [
    "story = \"\"\"\n",
    "在政府最近进行的一项调查中，要求公共部门的员工对他们所在部门的满意度进行评分。\n",
    "调查结果显示，NASA 是最受欢迎的部门，满意度为 95％。\n",
    "\n",
    "一位 NASA 员工 John Smith 对这一发现发表了评论，他表示：\n",
    "“我对 NASA 排名第一并不感到惊讶。这是一个与了不起的人们和令人难以置信的机会共事的好地方。我为成为这样一个创新组织的一员感到自豪。”\n",
    "\n",
    "NASA 的管理团队也对这一结果表示欢迎，主管 Tom Johnson 表示：\n",
    "“我们很高兴听到我们的员工对 NASA 的工作感到满意。\n",
    "我们拥有一支才华横溢、忠诚敬业的团队，他们为实现我们的目标不懈努力，看到他们的辛勤工作得到回报是太棒了。”\n",
    "\n",
    "调查还显示，社会保障管理局的满意度最低，只有 45％的员工表示他们对工作满意。\n",
    "政府承诺解决调查中员工提出的问题，并努力提高所有部门的工作满意度。\n",
    "\"\"\""
   ]
  },
  {
   "cell_type": "markdown",
   "id": "6092aa3b",
   "metadata": {},
   "source": [
    "### 3.1. 推断讨论主题"
   ]
  },
  {
   "cell_type": "code",
   "execution_count": 10,
   "id": "b7e53e0b",
   "metadata": {},
   "outputs": [
    {
     "name": "stdout",
     "output_type": "stream",
     "text": [
      "[\"NASA 满意度\", \"员工调查\", \"部门排名\", \"管理团队反应\", \"政府承诺\"]\n"
     ]
    }
   ],
   "source": [
    "prompt = f\"\"\"\n",
    "确定以下给定文本中讨论的五个主题。\n",
    "\n",
    "每个主题用1-2个词概括。\n",
    "\n",
    "请输出一个可解析的Python列表，每个元素是一个字符串，展示了一个主题。\n",
    "\n",
    "给定文本: ```{story}```\n",
    "\"\"\"\n",
    "\n",
    "response = get_completion(prompt)\n",
    "print(response)"
   ]
  },
  {
   "cell_type": "markdown",
   "id": "c0965d70",
   "metadata": {},
   "source": [
    "### 3.2. 为特定主题制作新闻提醒"
   ]
  },
  {
   "cell_type": "code",
   "execution_count": 11,
   "id": "d8822e72",
   "metadata": {},
   "outputs": [
    {
     "name": "stdout",
     "output_type": "stream",
     "text": [
      "[\n",
      "  {\"美国航空航天局\": 1},\n",
      "  {\"当地政府\": 0},\n",
      "  {\"工程\": 0},\n",
      "  {\"员工满意度\": 1},\n",
      "  {\"联邦政府\": 1}\n",
      "]\n"
     ]
    }
   ],
   "source": [
    "prompt = f\"\"\"\n",
    "判断主题列表中的每一项是否是给定文本中的一个话题，\n",
    "\n",
    "以列表的形式给出答案，每个元素是一个Json对象，键为对应主题，值为对应的 0 或 1。\n",
    "\n",
    "主题列表：美国航空航天局、当地政府、工程、员工满意度、联邦政府\n",
    "\n",
    "给定文本: ```{story}```\n",
    "\"\"\"\n",
    "\n",
    "response = get_completion(prompt)\n",
    "print(response)"
   ]
  },
  {
   "cell_type": "code",
   "execution_count": 12,
   "id": "63f87387",
   "metadata": {},
   "outputs": [
    {
     "name": "stdout",
     "output_type": "stream",
     "text": [
      "{'美国航空航天局': 1, '当地政府': 0, '工程': 0, '员工满意度': 1, '联邦政府': 1}\n",
      "提醒：关于美国航空航天局的新消息\n"
     ]
    }
   ],
   "source": [
    "result_lst = eval(response)\n",
    "topic_dict = {list(i.keys())[0]: list(i.values())[0] for i in result_lst}\n",
    "\n",
    "print(topic_dict)\n",
    "if topic_dict['美国航空航天局'] == 1:\n",
    "  print(\"提醒：关于美国航空航天局的新消息\")\n"
   ]
  }
 ],
 "metadata": {
  "kernelspec": {
   "display_name": "rl_new",
   "language": "python",
   "name": "python3"
  },
  "language_info": {
   "codemirror_mode": {
    "name": "ipython",
    "version": 3
   },
   "file_extension": ".py",
   "mimetype": "text/x-python",
   "name": "python",
   "nbconvert_exporter": "python",
   "pygments_lexer": "ipython3",
   "version": "3.12.11"
  }
 },
 "nbformat": 4,
 "nbformat_minor": 5
}
