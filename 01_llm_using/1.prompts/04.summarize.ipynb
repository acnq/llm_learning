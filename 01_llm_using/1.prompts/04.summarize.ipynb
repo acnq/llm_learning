{
 "cells": [
  {
   "cell_type": "markdown",
   "id": "aabb2866",
   "metadata": {},
   "source": [
    "# Chap 4. Summarize\n",
    "\n",
    "## 1. 单文本概括"
   ]
  },
  {
   "cell_type": "code",
   "execution_count": 1,
   "id": "8f451dab",
   "metadata": {},
   "outputs": [],
   "source": [
    "prod_review = \"\"\"\n",
    "这个熊猫公仔是我给女儿的生日礼物，她很喜欢，去哪都带着。\n",
    "公仔很软，超级可爱，面部表情也很和善。但是相比于价钱来说，\n",
    "它有点小，我感觉在别的地方用同样的价钱能买到更大的。\n",
    "快递比预期提前了一天到货，所以在送给女儿之前，我自己玩了会。\n",
    "\"\"\""
   ]
  },
  {
   "cell_type": "markdown",
   "id": "35e705d1",
   "metadata": {},
   "source": [
    "### 1.1. 限制输出文本长度"
   ]
  },
  {
   "cell_type": "code",
   "execution_count": 2,
   "id": "eeb8608a",
   "metadata": {},
   "outputs": [
    {
     "name": "stdout",
     "output_type": "stream",
     "text": [
      "可爱柔软，孩子喜爱；但尺寸偏小，性价比不高。快递提前送达。\n"
     ]
    }
   ],
   "source": [
    "from tool import get_completion\n",
    "\n",
    "prompt = f\"\"\"\n",
    "您的任务是从电子商务网站上生成一个产品评论的简短摘要。\n",
    "\n",
    "请对三个反引号之间的评论文本进行概括，最多30个字。\n",
    "\n",
    "评论: ```{prod_review}```\n",
    "\"\"\"\n",
    "\n",
    "response = get_completion(prompt)\n",
    "print(response)"
   ]
  },
  {
   "cell_type": "markdown",
   "id": "f792239e",
   "metadata": {},
   "source": [
    "### 1.2. 设置侧重\n",
    "\n",
    "#### 1.2.1. 侧重于快递服务"
   ]
  },
  {
   "cell_type": "code",
   "execution_count": null,
   "id": "20ccb294",
   "metadata": {},
   "outputs": [
    {
     "name": "stdout",
     "output_type": "stream",
     "text": [
      "快递提前一天送达，包装完好。\n"
     ]
    }
   ],
   "source": [
    "prompt = f\"\"\"\n",
    "您的任务是从电子商务网站上生成一个产品评论的简短摘要。\n",
    "\n",
    "请对三个反引号之间的评论文本进行概括，最多30个字，并且侧重在快递服务上。。\n",
    "\n",
    "评论: ```{prod_review}```\n",
    "\"\"\"\n",
    "\n",
    "response = get_completion(prompt)\n",
    "print(response)"
   ]
  },
  {
   "cell_type": "markdown",
   "id": "9e2993c5",
   "metadata": {},
   "source": [
    "#### 1.2.2. 侧重价格和质量"
   ]
  },
  {
   "cell_type": "code",
   "execution_count": null,
   "id": "14543c9d",
   "metadata": {},
   "outputs": [
    {
     "name": "stdout",
     "output_type": "stream",
     "text": [
      "价格偏高，尺寸偏小，但质量柔软可爱。\n"
     ]
    }
   ],
   "source": [
    "prompt = f\"\"\"\n",
    "您的任务是从电子商务网站上生成一个产品评论的简短摘要。\n",
    "\n",
    "请对三个反引号之间的评论文本进行概括，最多30个字，并且侧重在产品价格和质量上。\n",
    "\n",
    "评论: ```{prod_review}```\n",
    "\"\"\"\n",
    "\n",
    "response = get_completion(prompt)\n",
    "print(response)"
   ]
  },
  {
   "cell_type": "markdown",
   "id": "3d0800f6",
   "metadata": {},
   "source": [
    "### 1.3. 关键信息提取"
   ]
  },
  {
   "cell_type": "code",
   "execution_count": 5,
   "id": "13963c8b",
   "metadata": {},
   "outputs": [
    {
     "name": "stdout",
     "output_type": "stream",
     "text": [
      "快递比预期提前了一天到货。\n"
     ]
    }
   ],
   "source": [
    "prompt = f\"\"\"\n",
    "您的任务是从电子商务网站上的产品评论中提取相关信息。\n",
    "\n",
    "请从以下三个反引号之间的评论文本中提取产品运输相关的信息，最多30个词汇。\n",
    "\n",
    "评论: ```{prod_review}```\n",
    "\"\"\"\n",
    "\n",
    "response = get_completion(prompt)\n",
    "print(response)"
   ]
  },
  {
   "cell_type": "markdown",
   "id": "f425db88",
   "metadata": {},
   "source": [
    "## 2. 同事概括多条"
   ]
  },
  {
   "cell_type": "code",
   "execution_count": 6,
   "id": "7057136c",
   "metadata": {},
   "outputs": [],
   "source": [
    "review_1 = prod_review\n",
    "\n",
    "# 一盏落地灯的评论\n",
    "review_2 = \"\"\"\n",
    "我需要一盏漂亮的卧室灯，这款灯不仅具备额外的储物功能，价格也并不算太高。\n",
    "收货速度非常快，仅用了两天的时间就送到了。\n",
    "不过，在运输过程中，灯的拉线出了问题，幸好，公司很乐意寄送了一根全新的灯线。\n",
    "新的灯线也很快就送到手了，只用了几天的时间。\n",
    "装配非常容易。然而，之后我发现有一个零件丢失了，于是我联系了客服，他们迅速地给我寄来了缺失的零件！\n",
    "对我来说，这是一家非常关心客户和产品的优秀公司。\n",
    "\"\"\"\n",
    "\n",
    "# 一把电动牙刷的评论\n",
    "review_3 = \"\"\"\n",
    "我的牙科卫生员推荐了电动牙刷，所以我就买了这款。\n",
    "到目前为止，电池续航表现相当不错。\n",
    "初次充电后，我在第一周一直将充电器插着，为的是对电池进行条件养护。\n",
    "过去的3周里，我每天早晚都使用它刷牙，但电池依然维持着原来的充电状态。\n",
    "不过，牙刷头太小了。我见过比这个牙刷头还大的婴儿牙刷。\n",
    "我希望牙刷头更大一些，带有不同长度的刷毛，\n",
    "这样可以更好地清洁牙齿间的空隙，但这款牙刷做不到。\n",
    "总的来说，如果你能以50美元左右的价格购买到这款牙刷，那是一个不错的交易。\n",
    "制造商的替换刷头相当昂贵，但你可以购买价格更为合理的通用刷头。\n",
    "这款牙刷让我感觉就像每天都去了一次牙医，我的牙齿感觉非常干净！\n",
    "\"\"\"\n",
    "\n",
    "# 一台搅拌机的评论\n",
    "review_4 = \"\"\"\n",
    "在11月份期间，这个17件套装还在季节性促销中，售价约为49美元，打了五折左右。\n",
    "可是由于某种原因（我们可以称之为价格上涨），到了12月的第二周，所有的价格都上涨了，\n",
    "同样的套装价格涨到了70-89美元不等。而11件套装的价格也从之前的29美元上涨了约10美元。\n",
    "看起来还算不错，但是如果你仔细看底座，刀片锁定的部分看起来没有前几年版本的那么漂亮。\n",
    "然而，我打算非常小心地使用它\n",
    "（例如，我会先在搅拌机中研磨豆类、冰块、大米等坚硬的食物，然后再将它们研磨成所需的粒度，\n",
    "接着切换到打蛋器刀片以获得更细的面粉，如果我需要制作更细腻/少果肉的食物）。\n",
    "在制作冰沙时，我会将要使用的水果和蔬菜切成细小块并冷冻\n",
    "（如果使用菠菜，我会先轻微煮熟菠菜，然后冷冻，直到使用时准备食用。\n",
    "如果要制作冰糕，我会使用一个小到中号的食物加工器），这样你就可以避免添加过多的冰块。\n",
    "大约一年后，电机开始发出奇怪的声音。我打电话给客户服务，但保修期已经过期了，\n",
    "所以我只好购买了另一台。值得注意的是，这类产品的整体质量在过去几年里有所下降\n",
    "，所以他们在一定程度上依靠品牌认知和消费者忠诚来维持销售。在大约两天内，我收到了新的搅拌机。\n",
    "\"\"\"\n",
    "\n",
    "reviews = [review_1, review_2, review_3, review_4]"
   ]
  },
  {
   "cell_type": "code",
   "execution_count": 7,
   "id": "74704b5f",
   "metadata": {},
   "outputs": [
    {
     "name": "stdout",
     "output_type": "stream",
     "text": [
      "评论1:  熊猫公仔可爱柔软，女儿喜欢，但尺寸偏小，性价比不高，快递提前送达。 \n",
      "\n",
      "评论2:  这款卧室灯美观实用，价格合理，送货快。运输中灯线损坏和零件缺失，但客服响应迅速，及时补发，公司服务优秀。 \n",
      "\n",
      "评论3:  电动牙刷电池续航出色，但刷头太小，清洁效果受限。性价比不错，建议搭配通用刷头使用。 \n",
      "\n",
      "评论4:  季节性促销五折，后价格上涨。刀片锁定设计不如前版，使用需谨慎处理坚硬食物。电机一年后故障，保修过期。整体质量下降，依靠品牌维持销售。 \n",
      "\n"
     ]
    }
   ],
   "source": [
    "for i in range(len(reviews)):\n",
    "  prompt = f\"\"\"\n",
    "  你的任务是从电子商务网站上的产品评论中提取相关信息。\n",
    "\n",
    "  请对三个反引号之间的评论文本进行概括，最多20个词汇。\n",
    "\n",
    "  评论文本: ```{reviews[i]}```\n",
    "  \"\"\"\n",
    "  \n",
    "  response = get_completion(prompt)\n",
    "  print(f\"评论{i + 1}: \", response, \"\\n\")"
   ]
  }
 ],
 "metadata": {
  "kernelspec": {
   "display_name": "rl_new",
   "language": "python",
   "name": "python3"
  },
  "language_info": {
   "codemirror_mode": {
    "name": "ipython",
    "version": 3
   },
   "file_extension": ".py",
   "mimetype": "text/x-python",
   "name": "python",
   "nbconvert_exporter": "python",
   "pygments_lexer": "ipython3",
   "version": "3.12.11"
  }
 },
 "nbformat": 4,
 "nbformat_minor": 5
}
