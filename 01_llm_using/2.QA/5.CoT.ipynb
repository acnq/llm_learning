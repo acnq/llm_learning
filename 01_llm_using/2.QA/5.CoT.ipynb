{
 "cells": [
  {
   "cell_type": "markdown",
   "id": "00186425",
   "metadata": {},
   "source": [
    "# Chap 5. Chain of Thought (CoT) Reasoning\n",
    "\n",
    "## 1. CoT 提示设计\n",
    "\n",
    "### 1.1. 系统消息设计"
   ]
  },
  {
   "cell_type": "code",
   "execution_count": 2,
   "id": "7cf1fd15",
   "metadata": {},
   "outputs": [],
   "source": [
    "delimiter = \"====\"\n",
    "\n",
    "system_message = f\"\"\"\n",
    "请按照以下步骤回答客户的提问。客户的提问将以{delimiter}分隔。\n",
    "\n",
    "步骤 1:{delimiter}首先确定用户是否正在询问有关特定产品或产品的问题。产品类别不计入范围。\n",
    "\n",
    "步骤 2:{delimiter}如果用户询问特定产品，请确认产品是否在以下列表中。所有可用产品：\n",
    "\n",
    "产品：TechPro 超极本\n",
    "类别：计算机和笔记本电脑\n",
    "品牌：TechPro\n",
    "型号：TP-UB100\n",
    "保修期：1 年\n",
    "评分：4.5\n",
    "特点：13.3 英寸显示屏，8GB RAM，256GB SSD，Intel Core i5 处理器\n",
    "描述：一款适用于日常使用的时尚轻便的超极本。\n",
    "价格：$799.99\n",
    "\n",
    "产品：BlueWave 游戏笔记本电脑\n",
    "类别：计算机和笔记本电脑\n",
    "品牌：BlueWave\n",
    "型号：BW-GL200\n",
    "保修期：2 年\n",
    "评分：4.7\n",
    "特点：15.6 英寸显示屏，16GB RAM，512GB SSD，NVIDIA GeForce RTX 3060\n",
    "描述：一款高性能的游戏笔记本电脑，提供沉浸式体验。\n",
    "价格：$1199.99\n",
    "\n",
    "产品：PowerLite 可转换笔记本电脑\n",
    "类别：计算机和笔记本电脑\n",
    "品牌：PowerLite\n",
    "型号：PL-CV300\n",
    "保修期：1年\n",
    "评分：4.3\n",
    "特点：14 英寸触摸屏，8GB RAM，256GB SSD，360 度铰链\n",
    "描述：一款多功能可转换笔记本电脑，具有响应触摸屏。\n",
    "价格：$699.99\n",
    "\n",
    "产品：TechPro 台式电脑\n",
    "类别：计算机和笔记本电脑\n",
    "品牌：TechPro\n",
    "型号：TP-DT500\n",
    "保修期：1年\n",
    "评分：4.4\n",
    "特点：Intel Core i7 处理器，16GB RAM，1TB HDD，NVIDIA GeForce GTX 1660\n",
    "描述：一款功能强大的台式电脑，适用于工作和娱乐。\n",
    "价格：$999.99\n",
    "\n",
    "产品：BlueWave Chromebook\n",
    "类别：计算机和笔记本电脑\n",
    "品牌：BlueWave\n",
    "型号：BW-CB100\n",
    "保修期：1 年\n",
    "评分：4.1\n",
    "特点：11.6 英寸显示屏，4GB RAM，32GB eMMC，Chrome OS\n",
    "描述：一款紧凑而价格实惠的 Chromebook，适用于日常任务。\n",
    "价格：$249.99\n",
    "\n",
    "步骤 3:{delimiter} 如果消息中包含上述列表中的产品，请列出用户在消息中做出的任何假设，\\\n",
    "例如笔记本电脑 X 比笔记本电脑 Y 大，或者笔记本电脑 Z 有 2 年保修期。\n",
    "\n",
    "步骤 4:{delimiter} 如果用户做出了任何假设，请根据产品信息确定假设是否正确。\n",
    "\n",
    "步骤 5:{delimiter} 如果用户有任何错误的假设，请先礼貌地纠正客户的错误假设（如果适用）。\\\n",
    "只提及或引用可用产品列表中的产品，因为这是商店销售的唯一五款产品。以友好的口吻回答客户。\n",
    "\n",
    "使用以下格式回答问题：\n",
    "步骤 1: {delimiter} <步骤 1 的推理>\n",
    "步骤 2: {delimiter} <步骤 2 的推理>\n",
    "步骤 3: {delimiter} <步骤 3 的推理>\n",
    "步骤 4: {delimiter} <步骤 4 的推理>\n",
    "回复客户: {delimiter} <回复客户的内容>\n",
    "\n",
    "请确保每个步骤上面的回答中中使用 {delimiter} 对步骤和步骤的推理进行分隔。\n",
    "\"\"\""
   ]
  },
  {
   "cell_type": "markdown",
   "id": "8e5db5f6",
   "metadata": {},
   "source": [
    "### 1.2. 用户消息测试\n",
    "\n",
    "#### 1.2.1 更贵的电脑"
   ]
  },
  {
   "cell_type": "code",
   "execution_count": 3,
   "id": "f0f09d14",
   "metadata": {},
   "outputs": [
    {
     "name": "stdout",
     "output_type": "stream",
     "text": [
      "步骤 1: ==== 用户正在询问特定产品：BlueWave Chromebook 和 TechPro 台式电脑。  \n",
      "步骤 2: ==== 这两个产品都在可用产品列表中。BlueWave Chromebook 的价格是 $249.99，TechPro 台式电脑的价格是 $999.99。  \n",
      "步骤 3: ==== 用户假设 BlueWave Chromebook 比 TechPro 台式电脑贵，但根据产品信息，BlueWave Chromebook 的价格是 $249.99，而 TechPro 台式电脑的价格是 $999.99，所以 BlueWave Chromebook 实际上更便宜。  \n",
      "步骤 4: ==== 用户的假设是错误的，因为 BlueWave Chromebook 比 TechPro 台式电脑便宜，而不是更贵。  \n",
      "回复客户: ==== 您好！实际上，BlueWave Chromebook 的价格是 $249.99，而 TechPro 台式电脑的价格是 $999.99，所以 BlueWave Chromebook 比 TechPro 台式电脑便宜 $750。如果您需要更多信息，我很乐意帮助！ 😊\n"
     ]
    }
   ],
   "source": [
    "from tool import get_completion_from_messages\n",
    "\n",
    "user_message = f\"\"\"BlueWave Chromebook 比 TechPro 台式电脑贵多少？\"\"\"\n",
    "\n",
    "messages = [\n",
    "  {'role': 'system',\n",
    "    'content': system_message},\n",
    "  {'role': 'user',\n",
    "    'content': f\"{delimiter}{user_message}{delimiter}\"},\n",
    "]\n",
    "\n",
    "response = get_completion_from_messages(messages)\n",
    "print(response)"
   ]
  },
  {
   "cell_type": "markdown",
   "id": "0614f3e8",
   "metadata": {},
   "source": [
    "#### 1.2.2. 你有电视么？"
   ]
  },
  {
   "cell_type": "code",
   "execution_count": 4,
   "id": "8174fc56",
   "metadata": {},
   "outputs": [
    {
     "name": "stdout",
     "output_type": "stream",
     "text": [
      "步骤 1: ==== 用户正在询问特定产品类别（电视机），但根据说明，产品类别不计入范围。我需要确认用户是否在询问列表中的特定产品。  \n",
      "步骤 2: ==== 用户提到的“电视机”不在可用产品列表中。列表中的所有产品都属于“计算机和笔记本电脑”类别，没有电视机相关产品。  \n",
      "步骤 3: ==== 用户没有做出任何关于特定产品的假设（例如比较或保修声明），因为他们只是询问类别。  \n",
      "步骤 4: ==== 不适用，因为没有假设需要验证。  \n",
      "回复客户: ==== 抱歉，我们目前只销售计算机和笔记本电脑产品，如超极本、游戏笔记本电脑、可转换笔记本电脑、台式电脑和Chromebook。我们没有电视机库存。如果您对任何计算机产品感兴趣，我很乐意为您提供更多信息！ 😊\n"
     ]
    }
   ],
   "source": [
    "user_message = f\"\"\"你有电视机么\"\"\"\n",
    "messages = [\n",
    "  {'role': 'system',\n",
    "    'content': system_message},\n",
    "  {'role': 'user',\n",
    "    'content': f\"{delimiter}{user_message}{delimiter}\"},\n",
    "]\n",
    "response = get_completion_from_messages(messages)\n",
    "print(response)"
   ]
  },
  {
   "cell_type": "code",
   "execution_count": 5,
   "id": "481615ff",
   "metadata": {},
   "outputs": [
    {
     "name": "stdout",
     "output_type": "stream",
     "text": [
      "抱歉，我们目前只销售计算机和笔记本电脑产品，如超极本、游戏笔记本电脑、可转换笔记本电脑、台式电脑和Chromebook。我们没有电视机库存。如果您对任何计算机产品感兴趣，我很乐意为您提供更多信息！ 😊\n"
     ]
    }
   ],
   "source": [
    "try:\n",
    "  if delimiter in response:\n",
    "    final_response = response.split(delimiter)[-1].strip()\n",
    "  else:\n",
    "    final_response = response.split(\":\")[-1].strip()\n",
    "except Exception as e:\n",
    "  final_response = \"对不起，我现在有点问题，请尝试问另外一个问题\"\n",
    "  \n",
    "print(final_response)"
   ]
  }
 ],
 "metadata": {
  "kernelspec": {
   "display_name": "rl_new",
   "language": "python",
   "name": "python3"
  },
  "language_info": {
   "codemirror_mode": {
    "name": "ipython",
    "version": 3
   },
   "file_extension": ".py",
   "mimetype": "text/x-python",
   "name": "python",
   "nbconvert_exporter": "python",
   "pygments_lexer": "ipython3",
   "version": "3.12.11"
  }
 },
 "nbformat": 4,
 "nbformat_minor": 5
}
