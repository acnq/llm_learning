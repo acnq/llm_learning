{
 "cells": [
  {
   "cell_type": "markdown",
   "id": "b5097cfd",
   "metadata": {},
   "source": [
    "# 2. LLM, Chat format and Token\n",
    "\n",
    "## 1. LLM"
   ]
  },
  {
   "cell_type": "code",
   "execution_count": 1,
   "id": "fcfc8b66",
   "metadata": {},
   "outputs": [
    {
     "name": "stdout",
     "output_type": "stream",
     "text": [
      "中国的首都是**北京**。  \n",
      "北京是中国的政治、文化、国际交往和科技创新中心，也是中华人民共和国中央人民政府所在地。作为历史悠久的名城，北京拥有故宫、天坛、长城等世界文化遗产，同时也是一个现代化国际大都市。\n"
     ]
    }
   ],
   "source": [
    "from tool import get_completion\n",
    "\n",
    "response = get_completion(\"中国的首都是哪里？\")\n",
    "print(response)"
   ]
  },
  {
   "cell_type": "markdown",
   "id": "d139c9cf",
   "metadata": {},
   "source": [
    "## 2. Tokens"
   ]
  },
  {
   "cell_type": "code",
   "execution_count": 2,
   "id": "0e7c39b0",
   "metadata": {},
   "outputs": [
    {
     "name": "stdout",
     "output_type": "stream",
     "text": [
      "Let's take the word \"lollipop\" and reverse its letters.\n",
      "\n",
      "Original: l o l l i p o p\n",
      "\n",
      "Reversed: p o p i l l o l\n",
      "\n",
      "So, the reversed word is \"popillol\".\n",
      "\n",
      "However, note that \"lollipop\" is often considered as a single word, and reversing its letters gives \"popillol\". But if you meant to reverse the sequence of the letters as they appear, that is the result.\n",
      "\n",
      "If you intended something else, like reversing the word as a whole (which is the same as reversing the sequence of letters), then it's correct.\n",
      "\n",
      "Final answer: \\boxed{\\text{popillol}}\n"
     ]
    }
   ],
   "source": [
    "response = get_completion(\"Take the letters in lollipop \\\n",
    "  and reverse them\")\n",
    "print(response)"
   ]
  },
  {
   "cell_type": "code",
   "execution_count": 3,
   "id": "b2b6c630",
   "metadata": {},
   "outputs": [
    {
     "name": "stdout",
     "output_type": "stream",
     "text": [
      "Let's take the word \"l-o-l-l-i-p-o-p\" and reverse the order of its letters.\n",
      "\n",
      "Original: l - o - l - l - i - p - o - p\n",
      "\n",
      "Reversed: p - o - p - i - l - l - o - l\n",
      "\n",
      "So, the reversed string is \"p-o-p-i-l-l-o-l\".\n",
      "\n",
      "In a more readable form: \"popillol\".\n",
      "\n",
      "However, if we consider it as a single word without hyphens: \"lollipop\" reversed is \"popillol\".\n",
      "\n",
      "But since you wrote it with hyphens, I'll present it similarly.\n",
      "\n",
      "Final reversed sequence: p-o-p-i-l-l-o-l\n"
     ]
    }
   ],
   "source": [
    "response = get_completion(\"\"\"Take the letters in \\\n",
    "  l-o-l-l-i-p-o-p and reverse them\"\"\")\n",
    "print(response)"
   ]
  },
  {
   "cell_type": "markdown",
   "id": "146104a8",
   "metadata": {},
   "source": [
    "## 3. Helper function"
   ]
  },
  {
   "cell_type": "code",
   "execution_count": 4,
   "id": "18e06e80",
   "metadata": {},
   "outputs": [
    {
     "name": "stdout",
     "output_type": "stream",
     "text": [
      "在蔚蓝大海的深处，\n",
      "快乐的小鲸鱼在跳舞，\n",
      "尾巴拍打着浪花，\n",
      "唱着欢快的歌谣。\n",
      "\n",
      "它和鱼儿们玩耍，\n",
      "追逐着闪亮的泡泡，\n",
      "阳光洒在它的背上，\n",
      "温暖又明亮。\n",
      "\n",
      "小鲸鱼啊小鲸鱼，\n",
      "你是海洋的欢乐使者，\n",
      "带给世界无尽的快乐，\n",
      "永远自由自在。\n"
     ]
    }
   ],
   "source": [
    "from tool import get_completion_from_messages\n",
    "\n",
    "messages = [\n",
    "  {'role': 'system',\n",
    "  'content': '你是一个助理， 并以 Seuss 苏斯博士的风格作出回答。'},\n",
    "  {'role': 'user',\n",
    "  'content': '就快乐的小鲸鱼为主题给我写一首短诗'\n",
    "  },\n",
    "]\n",
    "response = get_completion_from_messages(messages, temperature=1)\n",
    "print(response)"
   ]
  },
  {
   "cell_type": "code",
   "execution_count": 5,
   "id": "b428db43",
   "metadata": {},
   "outputs": [
    {
     "name": "stdout",
     "output_type": "stream",
     "text": [
      "在蔚蓝的海洋里，一只名叫泡泡的小鲸鱼每天都用欢快的歌声和跳跃的浪花，把快乐传递给每一个遇见它的朋友。\n"
     ]
    }
   ],
   "source": [
    "# 长度控制\n",
    "messages = [\n",
    "  {'role': 'system', \n",
    "    'content':'你的所有答复只能是一句话'\n",
    "  },\n",
    "  {'role': 'user',\n",
    "    'content': '写一个关于快乐的小鲸鱼的故事'},\n",
    "]\n",
    "\n",
    "response = get_completion_from_messages(messages, temperature=1)\n",
    "print(response)"
   ]
  },
  {
   "cell_type": "code",
   "execution_count": 6,
   "id": "3b19bbfd",
   "metadata": {},
   "outputs": [
    {
     "name": "stdout",
     "output_type": "stream",
     "text": [
      "在蔚蓝的海洋深处，快乐的小鲸鱼欢快地跳跃，它的尾巴拍打着浪花，唱着欢快的歌谣。\n"
     ]
    }
   ],
   "source": [
    "# 长度控制\n",
    "messages = [\n",
    "  {'role': 'system', \n",
    "    'content':'你是一个助理， 并以 Seuss 苏斯博士的风格作出回答，只回答一句话'\n",
    "  },\n",
    "  {'role': 'user',\n",
    "    'content': '写一个关于快乐的小鲸鱼的故事'},\n",
    "]\n",
    "\n",
    "response = get_completion_from_messages(messages, temperature=1)\n",
    "print(response)"
   ]
  },
  {
   "cell_type": "code",
   "execution_count": 8,
   "id": "f636e1ef",
   "metadata": {},
   "outputs": [
    {
     "name": "stdout",
     "output_type": "stream",
     "text": [
      "在大海深处游来游去，\n",
      "快乐的小鲸鱼真有趣。\n",
      "尾巴拍浪花，喷水像喷泉，\n",
      "整天笑嘻嘻，从不皱眉头。\n",
      "\n",
      "它和鱼儿们一起玩耍，\n",
      "在珊瑚丛中捉迷藏。\n",
      "遇见海豚就转圈圈，\n",
      "遇见海星就点点头。\n",
      "\n",
      "太阳落下月亮升起，\n",
      "小鲸鱼还在游啊游。\n",
      "带着快乐游遍大海，\n",
      "让每个角落都充满欢笑！\n"
     ]
    }
   ],
   "source": [
    "from tool import get_completion_and_token_count\n",
    "\n",
    "messages = [\n",
    "  {'role': 'system',\n",
    "  'content': '你是一个助理， 并以 Seuss 苏斯博士的风格作出回答。'},\n",
    "  {'role': 'user',\n",
    "  'content': '就快乐的小鲸鱼为主题给我写一首短诗'\n",
    "  },\n",
    "]\n",
    "response, token_dict = get_completion_and_token_count(messages, temperature=1)\n",
    "print(response)"
   ]
  },
  {
   "cell_type": "code",
   "execution_count": 9,
   "id": "3b5567ec",
   "metadata": {},
   "outputs": [
    {
     "name": "stdout",
     "output_type": "stream",
     "text": [
      "{'prompt_tokens': 31, 'completion_tokens': 88, 'total_tokens': 119}\n"
     ]
    }
   ],
   "source": [
    "print(token_dict)"
   ]
  }
 ],
 "metadata": {
  "kernelspec": {
   "display_name": "rl_new",
   "language": "python",
   "name": "python3"
  },
  "language_info": {
   "codemirror_mode": {
    "name": "ipython",
    "version": 3
   },
   "file_extension": ".py",
   "mimetype": "text/x-python",
   "name": "python",
   "nbconvert_exporter": "python",
   "pygments_lexer": "ipython3",
   "version": "3.12.11"
  }
 },
 "nbformat": 4,
 "nbformat_minor": 5
}
