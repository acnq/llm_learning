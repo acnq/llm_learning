{
 "cells": [
  {
   "cell_type": "markdown",
   "id": "281709fa",
   "metadata": {},
   "source": [
    "# 7. Outputs Check"
   ]
  }
 ],
 "metadata": {
  "language_info": {
   "name": "python"
  }
 },
 "nbformat": 4,
 "nbformat_minor": 5
}
