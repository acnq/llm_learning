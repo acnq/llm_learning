{
 "cells": [
  {
   "cell_type": "markdown",
   "id": "1ec61cb2",
   "metadata": {},
   "source": [
    "# Chap 3. Classification"
   ]
  },
  {
   "cell_type": "code",
   "execution_count": 1,
   "id": "e97faca7",
   "metadata": {},
   "outputs": [],
   "source": [
    "delimiter = '####'\n",
    "\n",
    "system_message = f\"\"\"\n",
    "你将获得客户服务查询。\n",
    "每个客户服务查询都将用{delimiter}字符分隔。\n",
    "将每个查询分类到一个主要类别和一个次要类别中。\n",
    "以 JSON 格式提供你的输出，包含以下键：primary 和 secondary。\n",
    "\n",
    "主要类别：计费（Billing）、技术支持（Technical Support）、账户管理（Account Management）或一般咨询（General Inquiry）。\n",
    "\n",
    "计费次要类别：\n",
    "取消订阅或升级（Unsubscribe or upgrade）\n",
    "添加付款方式（Add a payment method）\n",
    "收费解释（Explanation for charge）\n",
    "争议费用（Dispute a charge）\n",
    "\n",
    "技术支持次要类别：\n",
    "常规故障排除（General troubleshooting）\n",
    "设备兼容性（Device compatibility）\n",
    "软件更新（Software updates）\n",
    "\n",
    "账户管理次要类别：\n",
    "重置密码（Password reset）\n",
    "更新个人信息（Update personal information）\n",
    "关闭账户（Close account）\n",
    "账户安全（Account security）\n",
    "\n",
    "一般咨询次要类别：\n",
    "产品信息（Product information）\n",
    "定价（Pricing）\n",
    "反馈（Feedback）\n",
    "与人工对话（Speak to a human）\n",
    "\"\"\""
   ]
  },
  {
   "cell_type": "code",
   "execution_count": 2,
   "id": "431c6494",
   "metadata": {},
   "outputs": [],
   "source": [
    "user_message = f\"\"\"\\\n",
    "我希望你删除我的个人资料和所有用户数据。 \"\"\""
   ]
  },
  {
   "cell_type": "code",
   "execution_count": 3,
   "id": "a51203f3",
   "metadata": {},
   "outputs": [],
   "source": [
    "messages = [\n",
    "  {'role': 'system',\n",
    "    'content': system_message},\n",
    "  {'role': 'user',\n",
    "    'content': f\"{delimiter}{user_message}{delimiter}\"},\n",
    "]"
   ]
  },
  {
   "cell_type": "code",
   "execution_count": 4,
   "id": "b3eb9438",
   "metadata": {},
   "outputs": [
    {
     "name": "stdout",
     "output_type": "stream",
     "text": [
      "{\n",
      "  \"primary\": \"Account Management\",\n",
      "  \"secondary\": \"Close account\"\n",
      "}\n"
     ]
    }
   ],
   "source": [
    "from tool import get_completion_from_messages\n",
    "\n",
    "response = get_completion_from_messages(messages)\n",
    "print(response)"
   ]
  },
  {
   "cell_type": "code",
   "execution_count": 5,
   "id": "c9128547",
   "metadata": {},
   "outputs": [
    {
     "name": "stdout",
     "output_type": "stream",
     "text": [
      "{\n",
      "  \"primary\": \"General Inquiry\",\n",
      "  \"secondary\": \"Product information\"\n",
      "}\n"
     ]
    }
   ],
   "source": [
    "user_message = f\"\"\"\\\n",
    "告诉我更多有关你们的平板电脑的信息\"\"\"\n",
    "messages = [\n",
    "  {'role': 'system',\n",
    "    'content': system_message},\n",
    "  {'role': 'user',\n",
    "    'content': f\"{delimiter}{user_message}{delimiter}\"},\n",
    "]\n",
    "response = get_completion_from_messages(messages)\n",
    "print(response)"
   ]
  }
 ],
 "metadata": {
  "kernelspec": {
   "display_name": "rl_new",
   "language": "python",
   "name": "python3"
  },
  "language_info": {
   "codemirror_mode": {
    "name": "ipython",
    "version": 3
   },
   "file_extension": ".py",
   "mimetype": "text/x-python",
   "name": "python",
   "nbconvert_exporter": "python",
   "pygments_lexer": "ipython3",
   "version": "3.12.11"
  }
 },
 "nbformat": 4,
 "nbformat_minor": 5
}
