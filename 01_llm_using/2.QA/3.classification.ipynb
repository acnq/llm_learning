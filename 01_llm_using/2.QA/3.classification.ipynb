{
 "cells": [
  {
   "cell_type": "markdown",
   "id": "1ec61cb2",
   "metadata": {},
   "source": [
    "# Chap 3. Classification"
   ]
  }
 ],
 "metadata": {
  "language_info": {
   "name": "python"
  }
 },
 "nbformat": 4,
 "nbformat_minor": 5
}
